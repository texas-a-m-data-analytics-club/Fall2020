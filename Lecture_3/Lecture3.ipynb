{
  "nbformat": 4,
  "nbformat_minor": 0,
  "metadata": {
    "colab": {
      "name": "Lecture3.ipynb",
      "provenance": []
    },
    "kernelspec": {
      "name": "python3",
      "display_name": "Python 3"
    }
  },
  "cells": [
    {
      "cell_type": "markdown",
      "metadata": {
        "id": "zt5iytZscX3g"
      },
      "source": [
        "# Notebook for multiple linear regression. Dataset: Boston House Prices. \n"
      ]
    },
    {
      "cell_type": "markdown",
      "metadata": {
        "id": "giHvqMA-dQvO"
      },
      "source": [
        "## Load the basic libraries for data processing"
      ]
    },
    {
      "cell_type": "code",
      "metadata": {
        "id": "zy72-zB4cf7a"
      },
      "source": [
        "import numpy as np\n",
        "import pandas as pd \n",
        "import matplotlib.pyplot as plt \n",
        "import seaborn as sns "
      ],
      "execution_count": 1,
      "outputs": []
    },
    {
      "cell_type": "markdown",
      "metadata": {
        "id": "Diat_oP6dX6H"
      },
      "source": [
        "## Import the dataset, it is available through the scikit-learn library."
      ]
    },
    {
      "cell_type": "code",
      "metadata": {
        "id": "citPu79ubtYQ"
      },
      "source": [
        "from sklearn.datasets import load_boston\n",
        "dataset = load_boston()"
      ],
      "execution_count": 2,
      "outputs": []
    },
    {
      "cell_type": "markdown",
      "metadata": {
        "id": "-d44XKL6d99j"
      },
      "source": [
        "#**Section 1. Overivew of the Dataset**"
      ]
    },
    {
      "cell_type": "code",
      "metadata": {
        "id": "qWPSS_5YeEb5"
      },
      "source": [
        "dataset"
      ],
      "execution_count": null,
      "outputs": []
    },
    {
      "cell_type": "code",
      "metadata": {
        "id": "_ivN1ZqneTCq",
        "outputId": "55cd3131-a47f-4401-bf38-2e68b95d873f",
        "colab": {
          "base_uri": "https://localhost:8080/",
          "height": 34
        }
      },
      "source": [
        "print(dataset.keys())"
      ],
      "execution_count": 4,
      "outputs": [
        {
          "output_type": "stream",
          "text": [
            "dict_keys(['data', 'target', 'feature_names', 'DESCR', 'filename'])\n"
          ],
          "name": "stdout"
        }
      ]
    },
    {
      "cell_type": "markdown",
      "metadata": {
        "id": "qtzwdmZmjbXD"
      },
      "source": [
        "###  Look into the description field (DESCR)"
      ]
    },
    {
      "cell_type": "code",
      "metadata": {
        "id": "qWQpI-r5fTis"
      },
      "source": [
        "print(dataset.DESCR)"
      ],
      "execution_count": null,
      "outputs": []
    },
    {
      "cell_type": "markdown",
      "metadata": {
        "id": "_7RuOGwVe6US"
      },
      "source": [
        "### Need to convert the dataset into matrix format"
      ]
    },
    {
      "cell_type": "code",
      "metadata": {
        "id": "v541V23Ae5ZH"
      },
      "source": [
        "df= pd.DataFrame(dataset.data, columns=dataset.feature_names)"
      ],
      "execution_count": 6,
      "outputs": []
    },
    {
      "cell_type": "code",
      "metadata": {
        "id": "_3Ew4MdQfPJ8"
      },
      "source": [
        "df.head(10)"
      ],
      "execution_count": null,
      "outputs": []
    },
    {
      "cell_type": "markdown",
      "metadata": {
        "id": "cc4AuNwpkuW9"
      },
      "source": [
        "### Add the target or dependent feature column to the matrix or dataframe"
      ]
    },
    {
      "cell_type": "code",
      "metadata": {
        "id": "HqSx6lNIfrcP"
      },
      "source": [
        "df['Cost'] = dataset.target\n"
      ],
      "execution_count": 8,
      "outputs": []
    },
    {
      "cell_type": "code",
      "metadata": {
        "id": "Q5exf_WhgGAP"
      },
      "source": [
        "df.head(10)"
      ],
      "execution_count": null,
      "outputs": []
    },
    {
      "cell_type": "markdown",
      "metadata": {
        "id": "nqoFsqUVkUTM"
      },
      "source": [
        "#**Section 2. Preprocess the data and EDA**"
      ]
    },
    {
      "cell_type": "markdown",
      "metadata": {
        "id": "MrTq8AMonLLQ"
      },
      "source": [
        "### 1. Check for any missing values"
      ]
    },
    {
      "cell_type": "code",
      "metadata": {
        "id": "1l-qcXXHlPgX"
      },
      "source": [
        "df.isnull().sum()\n"
      ],
      "execution_count": null,
      "outputs": []
    },
    {
      "cell_type": "markdown",
      "metadata": {
        "id": "mH8EXAVynX3H"
      },
      "source": [
        "### 2. Lets see how the dependent variable is distributed"
      ]
    },
    {
      "cell_type": "code",
      "metadata": {
        "id": "vnkEwURmnXVd"
      },
      "source": [
        "sns.set(rc={'figure.figsize':(10,10)})\n",
        "sns.distplot(df['Cost'], bins=10)\n",
        "plt.show()"
      ],
      "execution_count": null,
      "outputs": []
    },
    {
      "cell_type": "markdown",
      "metadata": {
        "id": "mmiyQgLioqiL"
      },
      "source": [
        "### Looks like the dependent variable follows a bell curve (normal distribution) though there seems to be an outlier around Cost =50. \n",
        "### 3.Let's see how the cost changes with rooms and crime\n",
        "\n"
      ]
    },
    {
      "cell_type": "code",
      "metadata": {
        "id": "m91fapSYo8dL"
      },
      "source": [
        "sns.scatterplot(data=df, x=\"RM\", y=\"Cost\")\n"
      ],
      "execution_count": null,
      "outputs": []
    },
    {
      "cell_type": "code",
      "metadata": {
        "id": "6DpJv0pjqtgX"
      },
      "source": [
        "sns.scatterplot(data=df, x=\"CRIM\", y=\"Cost\")\n"
      ],
      "execution_count": null,
      "outputs": []
    },
    {
      "cell_type": "markdown",
      "metadata": {
        "id": "xLOIqIaXq_4V"
      },
      "source": [
        "### Makes sense so as the number of rooms are increasing the cost is also increasing. Also we see houses in high crime area cost less. By sense I mean correlation ! May or may not be causation."
      ]
    },
    {
      "cell_type": "markdown",
      "metadata": {
        "id": "99_xg4XFrSkl"
      },
      "source": [
        "### 4. Let's make a correlation plot to see how the features are correlated."
      ]
    },
    {
      "cell_type": "code",
      "metadata": {
        "id": "9TUSBogvrj79"
      },
      "source": [
        "sns.heatmap(data=df.corr(), annot=True,cmap=\"vlag\")\n"
      ],
      "execution_count": null,
      "outputs": []
    },
    {
      "cell_type": "markdown",
      "metadata": {
        "id": "R8IInBHlssbe"
      },
      "source": [
        "### Correlation varies from -1 to 1. Correlation values close to 1 means high positive correlation and values close to -1 mean high negative correlation. Values close to 0 mean there is no or little correlation. Correlation does not mean causation, but it serves as an indicator of possible influence among features. \n",
        "\n",
        "## Let's set a threshold. \n",
        "###Correlation >= 0.7 is considered highly positive correlation \n",
        "###Correlation <= -0.7 is considered highly negative correlation \n"
      ]
    },
    {
      "cell_type": "markdown",
      "metadata": {
        "id": "mikQUxmktgOP"
      },
      "source": [
        "### **Observations for high correlation with dependent feature Cost**\n",
        "1. Cost and LSTAT have high negative correlation\n",
        "2. Cost and RM have high positive correlation\n",
        "\n",
        "### **Observations for high correlation among the independent features**\n",
        "1. INDUS and NOX \n",
        "2. INDUS and DIS\n",
        "3. INDUS and TAX\n",
        "4. NOX and AGE\n",
        "5. NOX and DIS\n",
        "6. AGE and DIS\n",
        "7. RAD and TAX\n",
        "\n"
      ]
    },
    {
      "cell_type": "markdown",
      "metadata": {
        "id": "r4rJCt6_zE8l"
      },
      "source": [
        "###4. Keep independent features that are highly correlated with depedendent feature. \n",
        "### Remove indepedent features that are higly correlated with each other, to avoid multicollinearity, issues. "
      ]
    },
    {
      "cell_type": "code",
      "metadata": {
        "id": "UyPQ3aUz0sZg"
      },
      "source": [
        "X_indep_feat=df.drop(['Cost'], axis=1) # Remove only cost, then try removing other vriables and see the effect on R^2 # Try to remove indus and rad\n",
        "Y_dep_feat=df['Cost']"
      ],
      "execution_count": 15,
      "outputs": []
    },
    {
      "cell_type": "markdown",
      "metadata": {
        "id": "QIuhYhmyNAuE"
      },
      "source": [
        "# **Section 3 Split the data into training and testing set**"
      ]
    },
    {
      "cell_type": "code",
      "metadata": {
        "id": "tJ7e8rbGsrV4"
      },
      "source": [
        "from sklearn.model_selection import train_test_split\n",
        "\n",
        "X_train, X_test, Y_train, Y_test = train_test_split(X_indep_feat, Y_dep_feat, test_size = 0.2, random_state=2)\n",
        "print(X_train.shape)\n",
        "print(X_test.shape)\n",
        "print(Y_train.shape)\n",
        "print(Y_test.shape)"
      ],
      "execution_count": null,
      "outputs": []
    },
    {
      "cell_type": "markdown",
      "metadata": {
        "id": "IWl4YYskNHjb"
      },
      "source": [
        "# **Section 4 Build Multiple Linear Regression Model**\n",
        "---\n",
        "\n"
      ]
    },
    {
      "cell_type": "code",
      "metadata": {
        "id": "RjMGyOpJ1i2J"
      },
      "source": [
        "from sklearn.linear_model import LinearRegression\n",
        "from sklearn.metrics import mean_squared_error\n",
        "from sklearn.metrics import r2_score"
      ],
      "execution_count": 17,
      "outputs": []
    },
    {
      "cell_type": "code",
      "metadata": {
        "id": "8swhHKOo1jjJ"
      },
      "source": [
        "lm = LinearRegression(normalize=False)\n",
        "lm.fit(X_train, Y_train)"
      ],
      "execution_count": null,
      "outputs": []
    },
    {
      "cell_type": "code",
      "metadata": {
        "id": "Pmlt-HeN4Jvn"
      },
      "source": [
        "def adjusted_r2 (R2,n,p): #### Function to calculate adjusted R^2 , n is the sample size, p is the number of indepedent features.\n",
        "  Adj_r2 = R2 - ((p-1) * (1-R2)/ (n-p))\n",
        "  return Adj_r2\n"
      ],
      "execution_count": 20,
      "outputs": []
    },
    {
      "cell_type": "markdown",
      "metadata": {
        "id": "j_0NA6LIB1dp"
      },
      "source": [
        "### Fit the model to the training data"
      ]
    },
    {
      "cell_type": "code",
      "metadata": {
        "id": "en_Tiw6y1mqB"
      },
      "source": [
        "y_train_predict = lm.predict(X_train)\n",
        "mse_training = mean_squared_error(Y_train, y_train_predict)\n",
        "r2_training = r2_score(Y_train, y_train_predict)\n",
        "\n",
        "n_training= len(X_train)\n",
        "p=X_train.shape[1] #number of independent features\n",
        "adj_r2_traing=adjusted_r2(r2_training,n_training,p)\n"
      ],
      "execution_count": 21,
      "outputs": []
    },
    {
      "cell_type": "code",
      "metadata": {
        "id": "qMGvMWgb4P6U"
      },
      "source": [
        "print(\"The model performance for training set\")\n",
        "print(\"-----------------------------------\")\n",
        "print('MSE is {}'.format(mse_training))\n",
        "print('R2 score is {}'.format(r2_training))\n",
        "print('Adj R2 score is {}'.format(adj_r2_traing))\n",
        "print(\"\\n\")\n",
        "\n",
        "\n",
        "\n"
      ],
      "execution_count": null,
      "outputs": []
    },
    {
      "cell_type": "markdown",
      "metadata": {
        "id": "X2AVaTSDB6Im"
      },
      "source": [
        "### Evaluate the model on Testing Data"
      ]
    },
    {
      "cell_type": "code",
      "metadata": {
        "id": "oZth_iCPBxFm"
      },
      "source": [
        "y_test_predict = lm.predict(X_test)\n",
        "mse_test = mean_squared_error(Y_test, y_test_predict)\n",
        "r2_test = r2_score(Y_test, y_test_predict)\n",
        "n_test= len(X_test)\n",
        "adj_r2_test=adjusted_r2(r2_test,n_test,p)\n"
      ],
      "execution_count": 23,
      "outputs": []
    },
    {
      "cell_type": "code",
      "metadata": {
        "id": "JUHkKFlkPeBV"
      },
      "source": [
        "\n",
        "\n",
        "print(\"The model performance for testing set\")\n",
        "print(\"-----------------------------------\")\n",
        "print('MSE is {}'.format(mse_test))\n",
        "print('R2 score is {}'.format(r2_test))\n",
        "print('Adj R2 score is {}'.format(adj_r2_test))\n",
        "print(\"\\n\")"
      ],
      "execution_count": null,
      "outputs": []
    }
  ]
}