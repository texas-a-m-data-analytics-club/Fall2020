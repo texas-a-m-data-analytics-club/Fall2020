{
  "nbformat": 4,
  "nbformat_minor": 0,
  "metadata": {
    "colab": {
      "name": "Lecture2.ipynb",
      "provenance": []
    },
    "kernelspec": {
      "name": "python3",
      "display_name": "Python 3"
    }
  },
  "cells": [
    {
      "cell_type": "markdown",
      "metadata": {
        "id": "hxsmqcAq4D8p",
        "colab_type": "text"
      },
      "source": [
        "# Import the basic data processing libraries\n",
        "\n",
        "\n",
        "\n"
      ]
    },
    {
      "cell_type": "code",
      "metadata": {
        "id": "uOeCC6PhQ22Q",
        "colab_type": "code",
        "colab": {}
      },
      "source": [
        "import numpy as np\n",
        "import pandas as pd"
      ],
      "execution_count": 1,
      "outputs": []
    },
    {
      "cell_type": "markdown",
      "metadata": {
        "id": "nYlezLnP39R9",
        "colab_type": "text"
      },
      "source": [
        "# Make a employee dataset\n",
        "\n",
        "## Make Python list for employee attributes:  Names, Salary, Gender, Location, ID, and Age"
      ]
    },
    {
      "cell_type": "code",
      "metadata": {
        "id": "i8fT_ZRBRCTW",
        "colab_type": "code",
        "colab": {}
      },
      "source": [
        "Emp_Names =[\"Sam\", \"John\",\"Jess\" ,\"Rose\" ,\"Kevin\",\"Sarah\", \"Jose\",None]  \n",
        "Emp_Loc =[\"Houston\",\"Houston\",\"Austin\",\"Dallas\",\"Austin\",None,\"Austin\",None]\n",
        "Emp_Sal = [15,35,np.nan,75,40,35,np.nan,np.nan]\n",
        "Emp_ID = [1,2,3,4,5,6,7,8]\n",
        "Emp_Age= [23,40,73,24,33,np.nan,np.nan,45]"
      ],
      "execution_count": 2,
      "outputs": []
    },
    {
      "cell_type": "markdown",
      "metadata": {
        "id": "RmrjuFbY4sHi",
        "colab_type": "text"
      },
      "source": [
        "## Combine the lists into one composite dataframe or data matrix"
      ]
    },
    {
      "cell_type": "code",
      "metadata": {
        "id": "rfPfWMqPSl3V",
        "colab_type": "code",
        "colab": {}
      },
      "source": [
        "df= pd.DataFrame({\"ID\":Emp_ID, \"Names\": Emp_Names, \"Salary\":Emp_Sal,\"Location\": Emp_Loc, \"Age\":Emp_Age \n",
        "    \n",
        "})"
      ],
      "execution_count": 3,
      "outputs": []
    },
    {
      "cell_type": "code",
      "metadata": {
        "id": "au0LJzMRXf1m",
        "colab_type": "code",
        "colab": {}
      },
      "source": [
        "df.head(8) ## Print the dataset"
      ],
      "execution_count": null,
      "outputs": []
    },
    {
      "cell_type": "code",
      "metadata": {
        "id": "tz6Xt-Bu4_nS",
        "colab_type": "code",
        "colab": {}
      },
      "source": [
        "print(df.shape)"
      ],
      "execution_count": null,
      "outputs": []
    },
    {
      "cell_type": "markdown",
      "metadata": {
        "id": "Z8DypOjm5Krd",
        "colab_type": "text"
      },
      "source": [
        "## Print the list total number of missing values in all the columns (features) "
      ]
    },
    {
      "cell_type": "code",
      "metadata": {
        "id": "OFb-UgxoftCd",
        "colab_type": "code",
        "colab": {}
      },
      "source": [
        "df.isnull()"
      ],
      "execution_count": null,
      "outputs": []
    },
    {
      "cell_type": "code",
      "metadata": {
        "id": "YcSDEKjsdYoc",
        "colab_type": "code",
        "colab": {}
      },
      "source": [
        "df.isnull().sum()"
      ],
      "execution_count": null,
      "outputs": []
    },
    {
      "cell_type": "markdown",
      "metadata": {
        "id": "-nlFMLMc5YpE",
        "colab_type": "text"
      },
      "source": [
        "## Delete the last row since only most of the features except age are missing"
      ]
    },
    {
      "cell_type": "code",
      "metadata": {
        "id": "sBPbTw6aa85V",
        "colab_type": "code",
        "colab": {}
      },
      "source": [
        "df=df.drop([7]) # drop the last row "
      ],
      "execution_count": 7,
      "outputs": []
    },
    {
      "cell_type": "code",
      "metadata": {
        "id": "ryQEEZdb2PNn",
        "colab_type": "code",
        "colab": {}
      },
      "source": [
        "df.head(8)"
      ],
      "execution_count": null,
      "outputs": []
    },
    {
      "cell_type": "code",
      "metadata": {
        "id": "ScSrzj9Cd5yX",
        "colab_type": "code",
        "colab": {}
      },
      "source": [
        "df.shape"
      ],
      "execution_count": null,
      "outputs": []
    },
    {
      "cell_type": "markdown",
      "metadata": {
        "id": "aeczkUjs55x4",
        "colab_type": "text"
      },
      "source": [
        "## Name and ID are redundant features so we can delete one of them."
      ]
    },
    {
      "cell_type": "code",
      "metadata": {
        "id": "-q9lpfg72H7G",
        "colab_type": "code",
        "colab": {}
      },
      "source": [
        "df=df.drop(['Names'],axis = 1 )"
      ],
      "execution_count": 10,
      "outputs": []
    },
    {
      "cell_type": "code",
      "metadata": {
        "id": "90QbBLZs2ZUB",
        "colab_type": "code",
        "colab": {}
      },
      "source": [
        "df.head(8)"
      ],
      "execution_count": null,
      "outputs": []
    },
    {
      "cell_type": "markdown",
      "metadata": {
        "id": "3VdnnMge6FI4",
        "colab_type": "text"
      },
      "source": [
        "## Impute Missing Numeric Features\n",
        "\n",
        "\n"
      ]
    },
    {
      "cell_type": "markdown",
      "metadata": {
        "id": "wIgElbaD6THg",
        "colab_type": "text"
      },
      "source": [
        "### Start by replacing the missing salaries with the average salary"
      ]
    },
    {
      "cell_type": "code",
      "metadata": {
        "id": "n0Na29-if1Nh",
        "colab_type": "code",
        "colab": {}
      },
      "source": [
        "Mean_Sal = df[\"Salary\"].mean()\n",
        "print(Mean_Sal)"
      ],
      "execution_count": null,
      "outputs": []
    },
    {
      "cell_type": "code",
      "metadata": {
        "id": "9y7RLer1j5fJ",
        "colab_type": "code",
        "colab": {}
      },
      "source": [
        "df[\"Salary\"]=df[\"Salary\"].fillna(Mean_Sal)\n",
        "df.head(10)"
      ],
      "execution_count": null,
      "outputs": []
    },
    {
      "cell_type": "markdown",
      "metadata": {
        "id": "jrtytDZc6c3F",
        "colab_type": "text"
      },
      "source": [
        "### Relacing the missing age with the average age, then we round it up. "
      ]
    },
    {
      "cell_type": "code",
      "metadata": {
        "id": "hqAEloQUgHK0",
        "colab_type": "code",
        "colab": {
          "base_uri": "https://localhost:8080/",
          "height": 51
        },
        "outputId": "677ea4c8-ba79-4eee-df5a-97991d4b0dc9"
      },
      "source": [
        "Mean_Age = df[\"Age\"].mean()\n",
        "print(Mean_Age)\n",
        "Mean_Age= round(Mean_Age)\n",
        "print(Mean_Age)"
      ],
      "execution_count": 14,
      "outputs": [
        {
          "output_type": "stream",
          "text": [
            "38.6\n",
            "39\n"
          ],
          "name": "stdout"
        }
      ]
    },
    {
      "cell_type": "code",
      "metadata": {
        "id": "6KtTT468NvSA",
        "colab_type": "code",
        "colab": {}
      },
      "source": [
        "df[\"Age\"]=df[\"Age\"].fillna(Mean_Age)\n",
        "df.head(10)"
      ],
      "execution_count": null,
      "outputs": []
    },
    {
      "cell_type": "markdown",
      "metadata": {
        "id": "LYk6tSUE6vR6",
        "colab_type": "text"
      },
      "source": [
        "## Impute Missing Categorical Features\n"
      ]
    },
    {
      "cell_type": "markdown",
      "metadata": {
        "id": "MWPgBK2Z68E9",
        "colab_type": "text"
      },
      "source": [
        "### list all the unique values in the Location column(feature)"
      ]
    },
    {
      "cell_type": "code",
      "metadata": {
        "id": "C8xzxHIJiwqi",
        "colab_type": "code",
        "colab": {}
      },
      "source": [
        "df[\"Location\"].unique()"
      ],
      "execution_count": null,
      "outputs": []
    },
    {
      "cell_type": "markdown",
      "metadata": {
        "id": "6UWfTn5m7HfU",
        "colab_type": "text"
      },
      "source": [
        "## Find the most common Location"
      ]
    },
    {
      "cell_type": "code",
      "metadata": {
        "id": "owrQy1w7ixR8",
        "colab_type": "code",
        "colab": {}
      },
      "source": [
        "Mode_Loc= df[\"Location\"].mode()[0]\n",
        "print(Mode_Loc)"
      ],
      "execution_count": null,
      "outputs": []
    },
    {
      "cell_type": "markdown",
      "metadata": {
        "id": "FF4Sky4q7cD8",
        "colab_type": "text"
      },
      "source": [
        "## Replace the missing Location with the most common (mode) Location."
      ]
    },
    {
      "cell_type": "code",
      "metadata": {
        "id": "a5kxjxOeqnIn",
        "colab_type": "code",
        "colab": {
          "base_uri": "https://localhost:8080/",
          "height": 266
        },
        "outputId": "2991edae-2d7f-4e20-ab1b-3b5e02e7ecbf"
      },
      "source": [
        "df[\"Location\"]=df[\"Location\"].fillna(Mode_Loc)\n",
        "df.head(10)"
      ],
      "execution_count": 18,
      "outputs": [
        {
          "output_type": "execute_result",
          "data": {
            "text/html": [
              "<div>\n",
              "<style scoped>\n",
              "    .dataframe tbody tr th:only-of-type {\n",
              "        vertical-align: middle;\n",
              "    }\n",
              "\n",
              "    .dataframe tbody tr th {\n",
              "        vertical-align: top;\n",
              "    }\n",
              "\n",
              "    .dataframe thead th {\n",
              "        text-align: right;\n",
              "    }\n",
              "</style>\n",
              "<table border=\"1\" class=\"dataframe\">\n",
              "  <thead>\n",
              "    <tr style=\"text-align: right;\">\n",
              "      <th></th>\n",
              "      <th>ID</th>\n",
              "      <th>Salary</th>\n",
              "      <th>Location</th>\n",
              "      <th>Age</th>\n",
              "    </tr>\n",
              "  </thead>\n",
              "  <tbody>\n",
              "    <tr>\n",
              "      <th>0</th>\n",
              "      <td>1</td>\n",
              "      <td>15.0</td>\n",
              "      <td>Houston</td>\n",
              "      <td>23.0</td>\n",
              "    </tr>\n",
              "    <tr>\n",
              "      <th>1</th>\n",
              "      <td>2</td>\n",
              "      <td>35.0</td>\n",
              "      <td>Houston</td>\n",
              "      <td>40.0</td>\n",
              "    </tr>\n",
              "    <tr>\n",
              "      <th>2</th>\n",
              "      <td>3</td>\n",
              "      <td>40.0</td>\n",
              "      <td>Austin</td>\n",
              "      <td>73.0</td>\n",
              "    </tr>\n",
              "    <tr>\n",
              "      <th>3</th>\n",
              "      <td>4</td>\n",
              "      <td>75.0</td>\n",
              "      <td>Dallas</td>\n",
              "      <td>24.0</td>\n",
              "    </tr>\n",
              "    <tr>\n",
              "      <th>4</th>\n",
              "      <td>5</td>\n",
              "      <td>40.0</td>\n",
              "      <td>Austin</td>\n",
              "      <td>33.0</td>\n",
              "    </tr>\n",
              "    <tr>\n",
              "      <th>5</th>\n",
              "      <td>6</td>\n",
              "      <td>35.0</td>\n",
              "      <td>Austin</td>\n",
              "      <td>39.0</td>\n",
              "    </tr>\n",
              "    <tr>\n",
              "      <th>6</th>\n",
              "      <td>7</td>\n",
              "      <td>40.0</td>\n",
              "      <td>Austin</td>\n",
              "      <td>39.0</td>\n",
              "    </tr>\n",
              "  </tbody>\n",
              "</table>\n",
              "</div>"
            ],
            "text/plain": [
              "   ID  Salary Location   Age\n",
              "0   1    15.0  Houston  23.0\n",
              "1   2    35.0  Houston  40.0\n",
              "2   3    40.0   Austin  73.0\n",
              "3   4    75.0   Dallas  24.0\n",
              "4   5    40.0   Austin  33.0\n",
              "5   6    35.0   Austin  39.0\n",
              "6   7    40.0   Austin  39.0"
            ]
          },
          "metadata": {
            "tags": []
          },
          "execution_count": 18
        }
      ]
    },
    {
      "cell_type": "markdown",
      "metadata": {
        "id": "rbpuWWHn7kXU",
        "colab_type": "text"
      },
      "source": [
        "# Encoding the categorical data"
      ]
    },
    {
      "cell_type": "markdown",
      "metadata": {
        "id": "Ir-c0Ugc8QWD",
        "colab_type": "text"
      },
      "source": [
        "## Label Encode the Gender and Location features"
      ]
    },
    {
      "cell_type": "code",
      "metadata": {
        "id": "sYUnKuB0K_xg",
        "colab_type": "code",
        "colab": {}
      },
      "source": [
        "from sklearn.preprocessing import LabelEncoder\n"
      ],
      "execution_count": 19,
      "outputs": []
    },
    {
      "cell_type": "code",
      "metadata": {
        "id": "V3N0No6J87gm",
        "colab_type": "code",
        "colab": {}
      },
      "source": [
        "lbl= LabelEncoder()\n",
        "lbl.fit(list(df['Location'].values))\n"
      ],
      "execution_count": null,
      "outputs": []
    },
    {
      "cell_type": "code",
      "metadata": {
        "id": "ChJGCh-mjtMB",
        "colab_type": "code",
        "colab": {}
      },
      "source": [
        "df['Location'] = lbl.transform(list(df['Location'].values))\n",
        "df.head(8)"
      ],
      "execution_count": null,
      "outputs": []
    },
    {
      "cell_type": "markdown",
      "metadata": {
        "id": "zOXiV16G9LEs",
        "colab_type": "text"
      },
      "source": [
        "## Create dummie variables"
      ]
    },
    {
      "cell_type": "code",
      "metadata": {
        "id": "UDN2qfos_sqA",
        "colab_type": "code",
        "colab": {}
      },
      "source": [
        "df1=df"
      ],
      "execution_count": 22,
      "outputs": []
    },
    {
      "cell_type": "code",
      "metadata": {
        "id": "rizRSomZ9dDn",
        "colab_type": "code",
        "colab": {}
      },
      "source": [
        "df1=pd.get_dummies(df1, columns=[\"Location\"])\n",
        "df1.head(8)"
      ],
      "execution_count": null,
      "outputs": []
    },
    {
      "cell_type": "markdown",
      "metadata": {
        "id": "YwB42hWPkLA5",
        "colab_type": "text"
      },
      "source": [
        "## When creating dummy variables always set drop_first = True to reduce redundancy "
      ]
    },
    {
      "cell_type": "code",
      "metadata": {
        "id": "TAaAZDxE-LYQ",
        "colab_type": "code",
        "colab": {}
      },
      "source": [
        "df=pd.get_dummies(df, columns=[\"Location\"],drop_first=True)\n",
        "\n",
        "df.head(8)"
      ],
      "execution_count": null,
      "outputs": []
    }
  ]
}