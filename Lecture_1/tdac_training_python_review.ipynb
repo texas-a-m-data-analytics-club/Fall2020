{
  "nbformat": 4,
  "nbformat_minor": 0,
  "metadata": {
    "colab": {
      "name": "tdac training python review.ipynb",
      "provenance": [],
      "collapsed_sections": []
    },
    "kernelspec": {
      "name": "python3",
      "display_name": "Python 3"
    }
  },
  "cells": [
    {
      "cell_type": "markdown",
      "metadata": {
        "id": "x0oTV99BTrSt",
        "colab_type": "text"
      },
      "source": [
        "# TDAC Training 1\n",
        "\n",
        "## Primitive Types (numbers, floats, strings)"
      ]
    },
    {
      "cell_type": "code",
      "metadata": {
        "id": "kzUZnMNycMPW",
        "colab_type": "code",
        "colab": {
          "base_uri": "https://localhost:8080/",
          "height": 34
        },
        "outputId": "9d085267-a0a3-4118-ff88-ecf5d5313d31"
      },
      "source": [
        "print(\"hello world!\")"
      ],
      "execution_count": 34,
      "outputs": [
        {
          "output_type": "stream",
          "text": [
            "hello world!\n"
          ],
          "name": "stdout"
        }
      ]
    },
    {
      "cell_type": "code",
      "metadata": {
        "id": "oYRVqoOXckxn",
        "colab_type": "code",
        "colab": {}
      },
      "source": [
        "my_int = 5\n",
        "my_float = 5.14"
      ],
      "execution_count": 35,
      "outputs": []
    },
    {
      "cell_type": "code",
      "metadata": {
        "id": "lZPb8AOpczsV",
        "colab_type": "code",
        "colab": {
          "base_uri": "https://localhost:8080/",
          "height": 34
        },
        "outputId": "855f4fac-9287-4399-b02d-18a6918ada9d"
      },
      "source": [
        "print(my_int)"
      ],
      "execution_count": 36,
      "outputs": [
        {
          "output_type": "stream",
          "text": [
            "5\n"
          ],
          "name": "stdout"
        }
      ]
    },
    {
      "cell_type": "code",
      "metadata": {
        "id": "7r3Avpsmc3ll",
        "colab_type": "code",
        "colab": {}
      },
      "source": [
        "my_int = 10"
      ],
      "execution_count": 37,
      "outputs": []
    },
    {
      "cell_type": "code",
      "metadata": {
        "id": "WZxxZdRDc_Ph",
        "colab_type": "code",
        "colab": {
          "base_uri": "https://localhost:8080/",
          "height": 34
        },
        "outputId": "e94ec5a3-9735-4330-cf3a-d95bb2774615"
      },
      "source": [
        "my_name = 'Jordan'\n",
        "print(my_name)"
      ],
      "execution_count": 38,
      "outputs": [
        {
          "output_type": "stream",
          "text": [
            "Jordan\n"
          ],
          "name": "stdout"
        }
      ]
    },
    {
      "cell_type": "markdown",
      "metadata": {
        "id": "PSuyLd5_UA4f",
        "colab_type": "text"
      },
      "source": [
        "## Control flow (booleans & if statements)"
      ]
    },
    {
      "cell_type": "code",
      "metadata": {
        "id": "_sT1GmN_dNMp",
        "colab_type": "code",
        "colab": {}
      },
      "source": [
        "my_age = 11\n",
        "is_person_legal = my_age >= 18"
      ],
      "execution_count": 39,
      "outputs": []
    },
    {
      "cell_type": "code",
      "metadata": {
        "id": "TS2oHr3sdZL8",
        "colab_type": "code",
        "colab": {}
      },
      "source": [
        "is_drinking_age = my_age >= 21"
      ],
      "execution_count": 40,
      "outputs": []
    },
    {
      "cell_type": "code",
      "metadata": {
        "id": "fILCx6TBdZd-",
        "colab_type": "code",
        "colab": {
          "base_uri": "https://localhost:8080/",
          "height": 34
        },
        "outputId": "e3724cc3-5964-4b31-b351-62fa9f6e90a8"
      },
      "source": [
        "if my_age >= 21:\n",
        "  print(my_name, 'is of drinking age')\n",
        "else:\n",
        "  print(my_name, 'is not of drinking age')"
      ],
      "execution_count": 41,
      "outputs": [
        {
          "output_type": "stream",
          "text": [
            "Jordan is not of drinking age\n"
          ],
          "name": "stdout"
        }
      ]
    },
    {
      "cell_type": "markdown",
      "metadata": {
        "id": "8kQwCrwDeNsk",
        "colab_type": "text"
      },
      "source": [
        "## Functions"
      ]
    },
    {
      "cell_type": "code",
      "metadata": {
        "id": "YU01IK8iePMf",
        "colab_type": "code",
        "colab": {}
      },
      "source": [
        "def is_legal(number_entered):\n",
        "  if number_entered >= 18:\n",
        "    return True\n",
        "  else:\n",
        "    return False"
      ],
      "execution_count": 42,
      "outputs": []
    },
    {
      "cell_type": "code",
      "metadata": {
        "id": "xhsxX9O1ebDK",
        "colab_type": "code",
        "colab": {
          "base_uri": "https://localhost:8080/",
          "height": 119
        },
        "outputId": "992e21c5-2866-4f11-c87e-00fc6a5e9a4a"
      },
      "source": [
        "# sum of 2 numbers\n",
        "def test(a, b):\n",
        "  return a + b\n",
        "\n",
        "for num in range(14, 20):\n",
        "  print(num, is_legal(num))"
      ],
      "execution_count": 43,
      "outputs": [
        {
          "output_type": "stream",
          "text": [
            "14 False\n",
            "15 False\n",
            "16 False\n",
            "17 False\n",
            "18 True\n",
            "19 True\n"
          ],
          "name": "stdout"
        }
      ]
    },
    {
      "cell_type": "markdown",
      "metadata": {
        "id": "0kSM-f2JUMC6",
        "colab_type": "text"
      },
      "source": [
        "## Lists & Iteration"
      ]
    },
    {
      "cell_type": "code",
      "metadata": {
        "id": "wkiJKx-VedgQ",
        "colab_type": "code",
        "colab": {}
      },
      "source": [
        "my_list = [2, 6, 5, 10, 5.17]"
      ],
      "execution_count": 44,
      "outputs": []
    },
    {
      "cell_type": "code",
      "metadata": {
        "id": "blMnyBHufiyU",
        "colab_type": "code",
        "colab": {
          "base_uri": "https://localhost:8080/",
          "height": 102
        },
        "outputId": "5849cc20-e96e-4f24-dbf5-33ad165da876"
      },
      "source": [
        "for my_item in my_list:\n",
        "  print(my_item, end='\\n')"
      ],
      "execution_count": 45,
      "outputs": [
        {
          "output_type": "stream",
          "text": [
            "2\n",
            "6\n",
            "5\n",
            "10\n",
            "5.17\n"
          ],
          "name": "stdout"
        }
      ]
    },
    {
      "cell_type": "code",
      "metadata": {
        "id": "x4RGseczf93C",
        "colab_type": "code",
        "colab": {}
      },
      "source": [
        "my_name = 'Aditya'"
      ],
      "execution_count": 46,
      "outputs": []
    },
    {
      "cell_type": "code",
      "metadata": {
        "id": "iyex6xPDgAZp",
        "colab_type": "code",
        "colab": {
          "base_uri": "https://localhost:8080/",
          "height": 119
        },
        "outputId": "4843366a-80ac-47a8-cc25-a355b6424acf"
      },
      "source": [
        "for my_char in my_name:\n",
        "  print(my_char)"
      ],
      "execution_count": 47,
      "outputs": [
        {
          "output_type": "stream",
          "text": [
            "A\n",
            "d\n",
            "i\n",
            "t\n",
            "y\n",
            "a\n"
          ],
          "name": "stdout"
        }
      ]
    },
    {
      "cell_type": "code",
      "metadata": {
        "id": "h0edKbFngPR2",
        "colab_type": "code",
        "colab": {}
      },
      "source": [
        "x_values = [1, 3, 5, 7 ,9]"
      ],
      "execution_count": 48,
      "outputs": []
    },
    {
      "cell_type": "code",
      "metadata": {
        "id": "CHvqUJpmgWas",
        "colab_type": "code",
        "colab": {}
      },
      "source": [
        "def my_func(num):\n",
        "  return num * num"
      ],
      "execution_count": 49,
      "outputs": []
    },
    {
      "cell_type": "markdown",
      "metadata": {
        "id": "Nv5ofy7HURiK",
        "colab_type": "text"
      },
      "source": [
        "## List Comprehensions"
      ]
    },
    {
      "cell_type": "code",
      "metadata": {
        "id": "5Znfudh-gb3B",
        "colab_type": "code",
        "colab": {}
      },
      "source": [
        "y_values = [  my_func(  x_val  ) for x_val in  x_values ]"
      ],
      "execution_count": 50,
      "outputs": []
    },
    {
      "cell_type": "code",
      "metadata": {
        "id": "-dkkrLC2g_QO",
        "colab_type": "code",
        "colab": {
          "base_uri": "https://localhost:8080/",
          "height": 34
        },
        "outputId": "41b73a53-8ba3-4f30-903c-8df1166c561a"
      },
      "source": [
        "y_values"
      ],
      "execution_count": 51,
      "outputs": [
        {
          "output_type": "execute_result",
          "data": {
            "text/plain": [
              "[1, 9, 25, 49, 81]"
            ]
          },
          "metadata": {
            "tags": []
          },
          "execution_count": 51
        }
      ]
    },
    {
      "cell_type": "code",
      "metadata": {
        "id": "AJ9a3gpthIOq",
        "colab_type": "code",
        "colab": {
          "base_uri": "https://localhost:8080/",
          "height": 35
        },
        "outputId": "7101f95a-bca5-4521-ebdd-d79ef609cf03"
      },
      "source": [
        "\n",
        "x_values[0]\n",
        "x_values[-1]\n",
        "\n",
        "my_name[-1]\n"
      ],
      "execution_count": 52,
      "outputs": [
        {
          "output_type": "execute_result",
          "data": {
            "application/vnd.google.colaboratory.intrinsic+json": {
              "type": "string"
            },
            "text/plain": [
              "'a'"
            ]
          },
          "metadata": {
            "tags": []
          },
          "execution_count": 52
        }
      ]
    },
    {
      "cell_type": "code",
      "metadata": {
        "id": "0iUi0EW6hh5s",
        "colab_type": "code",
        "colab": {
          "base_uri": "https://localhost:8080/",
          "height": 51
        },
        "outputId": "2e3ad2b6-0c82-4a1c-a952-d166a4c1e6bf"
      },
      "source": [
        "print(x_values)\n",
        "print(x_values[::-2])"
      ],
      "execution_count": 53,
      "outputs": [
        {
          "output_type": "stream",
          "text": [
            "[1, 3, 5, 7, 9]\n",
            "[9, 5, 1]\n"
          ],
          "name": "stdout"
        }
      ]
    },
    {
      "cell_type": "code",
      "metadata": {
        "id": "ZrbE1h_3iNUZ",
        "colab_type": "code",
        "colab": {}
      },
      "source": [
        "import numpy"
      ],
      "execution_count": 54,
      "outputs": []
    },
    {
      "cell_type": "markdown",
      "metadata": {
        "id": "TsIziZQZUWWW",
        "colab_type": "text"
      },
      "source": [
        "## Currency Conversion Exercise"
      ]
    },
    {
      "cell_type": "code",
      "metadata": {
        "id": "ewXDPR4pigjP",
        "colab_type": "code",
        "colab": {}
      },
      "source": [
        "# dollar to peso\n",
        "\n",
        "peso_to_usd = 0.046\n",
        "usd_to_peso = 1 / peso_to_usd\n",
        "\n",
        "def convert_usd_to_peso(usd_value):\n",
        "  return round(usd_value * usd_to_peso, 2)\n"
      ],
      "execution_count": 55,
      "outputs": []
    },
    {
      "cell_type": "code",
      "metadata": {
        "id": "OJq9fHaujqzv",
        "colab_type": "code",
        "colab": {
          "base_uri": "https://localhost:8080/",
          "height": 34
        },
        "outputId": "7740ee98-baed-4441-d1b8-8f6346cde9bf"
      },
      "source": [
        "print(convert_usd_to_peso(2.5))"
      ],
      "execution_count": 56,
      "outputs": [
        {
          "output_type": "stream",
          "text": [
            "54.35\n"
          ],
          "name": "stdout"
        }
      ]
    },
    {
      "cell_type": "code",
      "metadata": {
        "id": "vQCEYuCxj8h5",
        "colab_type": "code",
        "colab": {}
      },
      "source": [
        "my_wallet = [2.5, 1.4, 9.13]"
      ],
      "execution_count": 57,
      "outputs": []
    },
    {
      "cell_type": "code",
      "metadata": {
        "id": "xFsqW4Knj8yb",
        "colab_type": "code",
        "colab": {}
      },
      "source": [
        "my_pesos = [ convert_usd_to_peso(currency) for currency in my_wallet]"
      ],
      "execution_count": 58,
      "outputs": []
    },
    {
      "cell_type": "code",
      "metadata": {
        "id": "Vfv1T4xpkjUU",
        "colab_type": "code",
        "colab": {
          "base_uri": "https://localhost:8080/",
          "height": 34
        },
        "outputId": "e22d0a1f-c6cf-4dda-e13d-e8eefb993749"
      },
      "source": [
        "my_pesos"
      ],
      "execution_count": 59,
      "outputs": [
        {
          "output_type": "execute_result",
          "data": {
            "text/plain": [
              "[54.35, 30.43, 198.48]"
            ]
          },
          "metadata": {
            "tags": []
          },
          "execution_count": 59
        }
      ]
    },
    {
      "cell_type": "code",
      "metadata": {
        "id": "-5FAu9lNkvfC",
        "colab_type": "code",
        "colab": {}
      },
      "source": [
        "class Wallet:\n",
        "\n",
        "  def __init__(self, initial_value):\n",
        "    self.total_value = initial_value\n",
        "  \n",
        "  def add_dollar_wallet(self):\n",
        "    self.total_value = 1.00 + self.total_value"
      ],
      "execution_count": 60,
      "outputs": []
    },
    {
      "cell_type": "code",
      "metadata": {
        "id": "B2rAdw9hmQc_",
        "colab_type": "code",
        "colab": {}
      },
      "source": [
        "my_wall = Wallet(5.16)"
      ],
      "execution_count": 61,
      "outputs": []
    },
    {
      "cell_type": "code",
      "metadata": {
        "id": "eJ4DrkSEmUQ3",
        "colab_type": "code",
        "colab": {
          "base_uri": "https://localhost:8080/",
          "height": 34
        },
        "outputId": "70975b41-ecb3-4663-9776-f404a187d950"
      },
      "source": [
        "my_wall.total_value"
      ],
      "execution_count": 62,
      "outputs": [
        {
          "output_type": "execute_result",
          "data": {
            "text/plain": [
              "5.16"
            ]
          },
          "metadata": {
            "tags": []
          },
          "execution_count": 62
        }
      ]
    },
    {
      "cell_type": "code",
      "metadata": {
        "id": "4cqwcnB9mhOp",
        "colab_type": "code",
        "colab": {}
      },
      "source": [
        "my_wall.add_dollar_wallet()"
      ],
      "execution_count": 63,
      "outputs": []
    },
    {
      "cell_type": "code",
      "metadata": {
        "id": "kDJtdzlsmku2",
        "colab_type": "code",
        "colab": {
          "base_uri": "https://localhost:8080/",
          "height": 34
        },
        "outputId": "1291c159-9770-40a5-9f0d-502bb3634086"
      },
      "source": [
        "my_wall.total_value"
      ],
      "execution_count": 64,
      "outputs": [
        {
          "output_type": "execute_result",
          "data": {
            "text/plain": [
              "6.16"
            ]
          },
          "metadata": {
            "tags": []
          },
          "execution_count": 64
        }
      ]
    },
    {
      "cell_type": "code",
      "metadata": {
        "id": "upFgyuWEmloG",
        "colab_type": "code",
        "colab": {}
      },
      "source": [
        "class Numpy:\n",
        "\n",
        "  def __init__(self, my_name):\n",
        "    self.name = ''\n",
        "  \n",
        "  def arccos(self):\n",
        "    self.total_value = 1.00 + self.total_value"
      ],
      "execution_count": 65,
      "outputs": []
    },
    {
      "cell_type": "code",
      "metadata": {
        "id": "SlQ5ToE6mwcv",
        "colab_type": "code",
        "colab": {
          "base_uri": "https://localhost:8080/",
          "height": 34
        },
        "outputId": "44558601-5bb7-4fd5-9397-7decc4962f9f"
      },
      "source": [
        "numpy.cos(0)"
      ],
      "execution_count": 66,
      "outputs": [
        {
          "output_type": "execute_result",
          "data": {
            "text/plain": [
              "1.0"
            ]
          },
          "metadata": {
            "tags": []
          },
          "execution_count": 66
        }
      ]
    },
    {
      "cell_type": "code",
      "metadata": {
        "id": "pfp_FqEEm912",
        "colab_type": "code",
        "colab": {}
      },
      "source": [
        ""
      ],
      "execution_count": 66,
      "outputs": []
    }
  ]
}